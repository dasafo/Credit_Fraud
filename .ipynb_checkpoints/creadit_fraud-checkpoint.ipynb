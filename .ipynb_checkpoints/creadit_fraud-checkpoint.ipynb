{
 "cells": [
  {
   "cell_type": "markdown",
   "metadata": {},
   "source": [
    "# Credit Fraud"
   ]
  },
  {
   "cell_type": "markdown",
   "metadata": {},
   "source": [
    "Objetivos: \n",
    "* Comprender la poca distribución de los \"pequeños\" datos que se nos proporcionaron. \n",
    "* Crear una proporción de 50/50 de sub-dataframe de transacciones \"Fraude\" y \"Sin Fraude\". (Algoritmo NearMiss)\n",
    "* Determinar los clasificadores que vamos a utilizar y decidir cuál tiene mayor precisión. \n",
    "* Crear una red neuronal y comparar la precisión con nuestro mejor clasificador. \n",
    "* Comprender los errores comunes realizados con conjuntos de datos desequilibrados."
   ]
  },
  {
   "cell_type": "code",
   "execution_count": null,
   "metadata": {},
   "outputs": [],
   "source": []
  }
 ],
 "metadata": {
  "kernelspec": {
   "display_name": "Python 3",
   "language": "python",
   "name": "python3"
  },
  "language_info": {
   "codemirror_mode": {
    "name": "ipython",
    "version": 3
   },
   "file_extension": ".py",
   "mimetype": "text/x-python",
   "name": "python",
   "nbconvert_exporter": "python",
   "pygments_lexer": "ipython3",
   "version": "3.7.6"
  }
 },
 "nbformat": 4,
 "nbformat_minor": 4
}
